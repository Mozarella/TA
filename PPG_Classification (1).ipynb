{
  "cells": [
    {
      "cell_type": "markdown",
      "metadata": {
        "id": "0Mz7CMPIKdRb"
      },
      "source": [
        "# **Libararies**"
      ]
    },
    {
      "cell_type": "code",
      "execution_count": null,
      "metadata": {
        "id": "rRPNXl1VLEBz"
      },
      "outputs": [],
      "source": [
        "import warnings\n",
        "warnings.filterwarnings(\"ignore\")"
      ]
    },
    {
      "cell_type": "code",
      "execution_count": null,
      "metadata": {
        "colab": {
          "base_uri": "https://localhost:8080/"
        },
        "id": "EZLHjLHBpjNP",
        "outputId": "c863c4bd-7eb6-415f-cb34-8b862f1b5e5e"
      },
      "outputs": [
        {
          "name": "stdout",
          "output_type": "stream",
          "text": [
            "Requirement already satisfied: heartpy in /usr/local/lib/python3.7/dist-packages (1.2.7)\n",
            "Requirement already satisfied: numpy>=1.17 in /usr/local/lib/python3.7/dist-packages (from heartpy) (1.19.5)\n",
            "Requirement already satisfied: scipy in /usr/local/lib/python3.7/dist-packages (from heartpy) (1.4.1)\n",
            "Requirement already satisfied: matplotlib<=3.3.4 in /usr/local/lib/python3.7/dist-packages (from heartpy) (3.2.2)\n",
            "Requirement already satisfied: cycler>=0.10 in /usr/local/lib/python3.7/dist-packages (from matplotlib<=3.3.4->heartpy) (0.11.0)\n",
            "Requirement already satisfied: pyparsing!=2.0.4,!=2.1.2,!=2.1.6,>=2.0.1 in /usr/local/lib/python3.7/dist-packages (from matplotlib<=3.3.4->heartpy) (3.0.6)\n",
            "Requirement already satisfied: kiwisolver>=1.0.1 in /usr/local/lib/python3.7/dist-packages (from matplotlib<=3.3.4->heartpy) (1.3.2)\n",
            "Requirement already satisfied: python-dateutil>=2.1 in /usr/local/lib/python3.7/dist-packages (from matplotlib<=3.3.4->heartpy) (2.8.2)\n",
            "Requirement already satisfied: six>=1.5 in /usr/local/lib/python3.7/dist-packages (from python-dateutil>=2.1->matplotlib<=3.3.4->heartpy) (1.15.0)\n"
          ]
        }
      ],
      "source": [
        "!pip install heartpy"
      ]
    },
    {
      "cell_type": "code",
      "execution_count": null,
      "metadata": {
        "id": "T2FRtjJRAXAe"
      },
      "outputs": [],
      "source": [
        "import heartpy as hp\n",
        "import pandas as pd\n",
        "import numpy as np\n",
        "\n",
        "import bwr\n",
        "import pywt\n",
        "import statistics\n",
        "import matplotlib.pyplot as plt\n",
        "from scipy.signal import resample, find_peaks\n",
        "from statsmodels.robust import mad"
      ]
    },
    {
      "cell_type": "code",
      "execution_count": null,
      "metadata": {
        "id": "Lj0WS6NUMSMr"
      },
      "outputs": [],
      "source": [
        "from sklearn.model_selection import train_test_split\n",
        "from sklearn.neighbors import KNeighborsClassifier\n",
        "from sklearn.model_selection import cross_val_score\n",
        "from sklearn.metrics import classification_report\n",
        "from sklearn.preprocessing import LabelEncoder"
      ]
    },
    {
      "cell_type": "markdown",
      "metadata": {
        "id": "H-ZEDDrHKiiX"
      },
      "source": [
        "# **Functions**"
      ]
    },
    {
      "cell_type": "code",
      "execution_count": null,
      "metadata": {
        "id": "m2UyOHH7A-r0"
      },
      "outputs": [],
      "source": [
        "def waveletSmooth(x, wavelet=\"db4\", level=1, title=None ):\n",
        "    coeff = pywt.wavedec( x, wavelet, mode=\"per\")\n",
        "    sigma = mad( coeff[-level] )\n",
        "    uthresh = sigma * np.sqrt( 2*np.log( len( x ) ) )\n",
        "    coeff[1:] = ( pywt.threshold( i, value=uthresh, mode=\"soft\" ) for i in coeff[1:] )\n",
        "    y = pywt.waverec( coeff, wavelet, mode=\"per\" )\n",
        "    return y"
      ]
    },
    {
      "cell_type": "code",
      "execution_count": null,
      "metadata": {
        "id": "Z35aBIzRurn2"
      },
      "outputs": [],
      "source": [
        "def dwt_extraction(ppg):\n",
        "    # Preprocessing using Wavelet Smoothing & BWR   \n",
        "    sinyal = waveletSmooth(ppg)\n",
        "    _, ppg_out = bwr.bwr(sinyal)\n",
        "\n",
        "    # Extraction using Multilevel 1D Discrete Wavelet Transform\n",
        "    coeff = pywt.wavedec(ppg_out, 'sym3', level=4)\n",
        "    return {'min': coeff[0].min(), \n",
        "            'max': coeff[0].max(), \n",
        "            'mean': statistics.mean(coeff[0]), \n",
        "            'med': statistics.median(coeff[0]), \n",
        "            'std': statistics.stdev(coeff[0])}"
      ]
    },
    {
      "cell_type": "code",
      "execution_count": null,
      "metadata": {
        "id": "QBHvPITivOtZ"
      },
      "outputs": [],
      "source": [
        "def re_extraction(ppg, sample_rate):\n",
        "    # Extraction using RE\n",
        "    m = None\n",
        "    try:\n",
        "        denoise = hp.filter_signal(ppg, \n",
        "                                  cutoff = [0.8, 2.5], \n",
        "                                  filtertype = 'bandpass',\n",
        "                                  sample_rate = sample_rate, \n",
        "                                  order = 3)\n",
        "        resampled = resample(denoise, len(denoise) * 10)\n",
        "        new_sample_rate = sample_rate * 10\n",
        "        try:\n",
        "            wd, m = hp.process(resampled, \n",
        "                                sample_rate=new_sample_rate, \n",
        "                                high_precision=True, \n",
        "                                clean_rr=False) \n",
        "        except: pass\n",
        "    except:\n",
        "        wd, m = hp.process(ppg,min,max,std, \n",
        "                            sample_rate=sample_rate, \n",
        "                            high_precision=True, \n",
        "                            clean_rr=False)\n",
        "    return m "
      ]
    },
    {
      "cell_type": "code",
      "execution_count": null,
      "metadata": {
        "id": "E_ZCYgIfMSOw"
      },
      "outputs": [],
      "source": [
        "def rr_extraction(ppg, time):\n",
        "    result = {'min': -100, 'max': -100, 'mean': -100, 'med': -100, 'std': -100}\n",
        "    peaks, _ = find_peaks(ppg, distance=30)\n",
        "    peaks_time = np.array([time[i] for i in peaks], dtype=np.datetime64)\n",
        "    peaks_interval = np.diff(peaks_time).astype(\"float\")/1000000\n",
        "    if len(peaks_interval) >= 2:\n",
        "        result['min'] = peaks_interval.min() \n",
        "        result['max'] = peaks_interval.max()\n",
        "        result['mean'] = statistics.mean(peaks_interval) \n",
        "        result['med'] = statistics.median(peaks_interval) \n",
        "        result['std'] = statistics.stdev(peaks_interval)\n",
        "    return result"
      ]
    },
    {
      "cell_type": "markdown",
      "metadata": {
        "id": "xvJgjfcSKvkB"
      },
      "source": [
        "# **Dataset**"
      ]
    },
    {
      "cell_type": "code",
      "execution_count": null,
      "metadata": {
        "id": "eZ2PyChGHTj2"
      },
      "outputs": [],
      "source": [
        "labels = [{'name': 'AF', 'dataset': 'AF1KOSONG.csv', 'loops': 19, 'sample_rate': 50, 'windows': 100}, \n",
        "          {'name': 'Normal', 'dataset': 'nclean.csv', 'loops': 19, 'sample_rate': 50, 'windows': 100},\n",
        "          {'name': 'PVC', 'dataset': 'PVC1KOSONG.csv', 'loops': 12, 'sample_rate': 50, 'windows': 500}\n",
        "         ]    "
      ]
    },
    {
      "cell_type": "markdown",
      "metadata": {
        "id": "o-GFsU34KtFJ"
      },
      "source": [
        "# **Extraction**"
      ]
    },
    {
      "cell_type": "code",
      "execution_count": null,
      "metadata": {
        "id": "8HtvqmXm_2PJ"
      },
      "outputs": [],
      "source": [
        "hasil_dwt = []\n",
        "hasil_re = []\n",
        "hasil_rr = []\n",
        "for label in labels:\n",
        "    # Load ECG Signal\n",
        "    df_data = pd.read_csv(label['dataset'], float_precision='round_trip')\n",
        "    \n",
        "    # Interval Segment Window\n",
        "    for i in range(label['loops']):\n",
        "        ppg = []\n",
        "        time = []\n",
        "        min = []\n",
        "        max = []\n",
        "        for j in range(label['windows']):\n",
        "            ppg.append(df_data['PLETH'][(i*label['windows'])+j])\n",
        "            time.append(pd.to_datetime(df_data['Time'][(i*label['windows'])+j]))\n",
        "\n",
        "        if i not in [3, 6, 8, 10, 11, 14,15, 18]:\n",
        "            # DWT Extraction\n",
        "            features_dwt = dwt_extraction(ppg)\n",
        "            features_dwt['label'] = label['name']\n",
        "            hasil_dwt.append(features_dwt)\n",
        "\n",
        "            # DYNAMIC Extraction\n",
        "            features_re = re_extraction(ppg, sample_rate = label['sample_rate'])\n",
        "            if features_re:\n",
        "                features_re['label'] = label['name']\n",
        "                hasil_re.append(features_re)\n",
        "\n",
        "            # RR Extraction\n",
        "            features_rr = rr_extraction(ppg, time)\n",
        "            features_rr['label'] = label['name']\n",
        "            hasil_rr.append(features_rr)"
      ]
    },
    {
      "cell_type": "code",
      "execution_count": null,
      "metadata": {
        "colab": {
          "base_uri": "https://localhost:8080/"
        },
        "id": "3ywKXTT1c7yD",
        "outputId": "ca36f736-f384-4b7f-a544-f7d6e9013ebc"
      },
      "outputs": [
        {
          "data": {
            "text/plain": [
              "array(['AF', 'Normal', 'PVC'], dtype='<U6')"
            ]
          },
          "execution_count": 29,
          "metadata": {},
          "output_type": "execute_result"
        }
      ],
      "source": [
        "le = LabelEncoder()\n",
        "le.fit(['AF', 'Normal', 'PVC'])\n",
        "le.classes_"
      ]
    },
    {
      "cell_type": "markdown",
      "metadata": {
        "id": "EbajXePztzt3"
      },
      "source": [
        "## DWT Features"
      ]
    },
    {
      "cell_type": "code",
      "execution_count": null,
      "metadata": {
        "colab": {
          "base_uri": "https://localhost:8080/",
          "height": 959
        },
        "id": "jamxu6M70Ify",
        "outputId": "8df578f2-5997-4353-c727-2f1e90825f28"
      },
      "outputs": [
        {
          "data": {
            "text/html": [
              "\n",
              "  <div id=\"df-83eda1ff-4767-476b-a1a9-0d148cf77608\">\n",
              "    <div class=\"colab-df-container\">\n",
              "      <div>\n",
              "<style scoped>\n",
              "    .dataframe tbody tr th:only-of-type {\n",
              "        vertical-align: middle;\n",
              "    }\n",
              "\n",
              "    .dataframe tbody tr th {\n",
              "        vertical-align: top;\n",
              "    }\n",
              "\n",
              "    .dataframe thead th {\n",
              "        text-align: right;\n",
              "    }\n",
              "</style>\n",
              "<table border=\"1\" class=\"dataframe\">\n",
              "  <thead>\n",
              "    <tr style=\"text-align: right;\">\n",
              "      <th></th>\n",
              "      <th>min</th>\n",
              "      <th>max</th>\n",
              "      <th>mean</th>\n",
              "      <th>med</th>\n",
              "      <th>std</th>\n",
              "      <th>label</th>\n",
              "      <th>class</th>\n",
              "    </tr>\n",
              "  </thead>\n",
              "  <tbody>\n",
              "    <tr>\n",
              "      <th>0</th>\n",
              "      <td>-247.920551</td>\n",
              "      <td>115.138561</td>\n",
              "      <td>-11.632843</td>\n",
              "      <td>49.231595</td>\n",
              "      <td>130.080619</td>\n",
              "      <td>AF</td>\n",
              "      <td>0</td>\n",
              "    </tr>\n",
              "    <tr>\n",
              "      <th>1</th>\n",
              "      <td>-189.251129</td>\n",
              "      <td>206.326931</td>\n",
              "      <td>-80.020658</td>\n",
              "      <td>-149.626793</td>\n",
              "      <td>141.859744</td>\n",
              "      <td>Normal</td>\n",
              "      <td>1</td>\n",
              "    </tr>\n",
              "    <tr>\n",
              "      <th>2</th>\n",
              "      <td>-1.102709</td>\n",
              "      <td>1.221279</td>\n",
              "      <td>0.037925</td>\n",
              "      <td>-0.020088</td>\n",
              "      <td>0.604476</td>\n",
              "      <td>PVC</td>\n",
              "      <td>2</td>\n",
              "    </tr>\n",
              "    <tr>\n",
              "      <th>3</th>\n",
              "      <td>-547.399020</td>\n",
              "      <td>251.216260</td>\n",
              "      <td>-218.044684</td>\n",
              "      <td>-231.251866</td>\n",
              "      <td>276.492531</td>\n",
              "      <td>Normal</td>\n",
              "      <td>1</td>\n",
              "    </tr>\n",
              "    <tr>\n",
              "      <th>4</th>\n",
              "      <td>-301.046905</td>\n",
              "      <td>135.955328</td>\n",
              "      <td>-0.478558</td>\n",
              "      <td>59.439387</td>\n",
              "      <td>146.166389</td>\n",
              "      <td>AF</td>\n",
              "      <td>0</td>\n",
              "    </tr>\n",
              "    <tr>\n",
              "      <th>5</th>\n",
              "      <td>-566.200859</td>\n",
              "      <td>256.851673</td>\n",
              "      <td>-37.007789</td>\n",
              "      <td>29.097550</td>\n",
              "      <td>251.652329</td>\n",
              "      <td>Normal</td>\n",
              "      <td>1</td>\n",
              "    </tr>\n",
              "    <tr>\n",
              "      <th>6</th>\n",
              "      <td>-268.899891</td>\n",
              "      <td>140.211201</td>\n",
              "      <td>-94.683306</td>\n",
              "      <td>-111.475790</td>\n",
              "      <td>127.688119</td>\n",
              "      <td>AF</td>\n",
              "      <td>0</td>\n",
              "    </tr>\n",
              "    <tr>\n",
              "      <th>7</th>\n",
              "      <td>-321.298400</td>\n",
              "      <td>147.541338</td>\n",
              "      <td>-3.420098</td>\n",
              "      <td>102.967335</td>\n",
              "      <td>194.887436</td>\n",
              "      <td>Normal</td>\n",
              "      <td>1</td>\n",
              "    </tr>\n",
              "    <tr>\n",
              "      <th>8</th>\n",
              "      <td>-386.068221</td>\n",
              "      <td>220.164904</td>\n",
              "      <td>-89.859620</td>\n",
              "      <td>-58.675604</td>\n",
              "      <td>169.432200</td>\n",
              "      <td>Normal</td>\n",
              "      <td>1</td>\n",
              "    </tr>\n",
              "    <tr>\n",
              "      <th>9</th>\n",
              "      <td>-346.461284</td>\n",
              "      <td>224.792217</td>\n",
              "      <td>-98.670221</td>\n",
              "      <td>-90.267803</td>\n",
              "      <td>158.070552</td>\n",
              "      <td>Normal</td>\n",
              "      <td>1</td>\n",
              "    </tr>\n",
              "    <tr>\n",
              "      <th>10</th>\n",
              "      <td>-418.362210</td>\n",
              "      <td>187.817562</td>\n",
              "      <td>-0.377984</td>\n",
              "      <td>90.982813</td>\n",
              "      <td>217.991264</td>\n",
              "      <td>Normal</td>\n",
              "      <td>1</td>\n",
              "    </tr>\n",
              "    <tr>\n",
              "      <th>11</th>\n",
              "      <td>-0.796843</td>\n",
              "      <td>2.072412</td>\n",
              "      <td>0.122461</td>\n",
              "      <td>0.000114</td>\n",
              "      <td>0.647585</td>\n",
              "      <td>PVC</td>\n",
              "      <td>2</td>\n",
              "    </tr>\n",
              "    <tr>\n",
              "      <th>12</th>\n",
              "      <td>-302.565814</td>\n",
              "      <td>139.259470</td>\n",
              "      <td>-56.594418</td>\n",
              "      <td>-73.348335</td>\n",
              "      <td>120.208859</td>\n",
              "      <td>Normal</td>\n",
              "      <td>1</td>\n",
              "    </tr>\n",
              "    <tr>\n",
              "      <th>13</th>\n",
              "      <td>-316.549348</td>\n",
              "      <td>167.643433</td>\n",
              "      <td>-39.009480</td>\n",
              "      <td>4.773795</td>\n",
              "      <td>145.060890</td>\n",
              "      <td>AF</td>\n",
              "      <td>0</td>\n",
              "    </tr>\n",
              "    <tr>\n",
              "      <th>14</th>\n",
              "      <td>-269.867534</td>\n",
              "      <td>150.839875</td>\n",
              "      <td>7.518504</td>\n",
              "      <td>40.999312</td>\n",
              "      <td>136.010537</td>\n",
              "      <td>AF</td>\n",
              "      <td>0</td>\n",
              "    </tr>\n",
              "    <tr>\n",
              "      <th>15</th>\n",
              "      <td>-243.838892</td>\n",
              "      <td>168.336799</td>\n",
              "      <td>-94.359022</td>\n",
              "      <td>-131.329284</td>\n",
              "      <td>128.428844</td>\n",
              "      <td>AF</td>\n",
              "      <td>0</td>\n",
              "    </tr>\n",
              "    <tr>\n",
              "      <th>16</th>\n",
              "      <td>-1.043576</td>\n",
              "      <td>1.335088</td>\n",
              "      <td>0.053089</td>\n",
              "      <td>-0.053967</td>\n",
              "      <td>0.600670</td>\n",
              "      <td>PVC</td>\n",
              "      <td>2</td>\n",
              "    </tr>\n",
              "    <tr>\n",
              "      <th>17</th>\n",
              "      <td>-1.197708</td>\n",
              "      <td>1.228660</td>\n",
              "      <td>0.042005</td>\n",
              "      <td>-0.033657</td>\n",
              "      <td>0.621005</td>\n",
              "      <td>PVC</td>\n",
              "      <td>2</td>\n",
              "    </tr>\n",
              "    <tr>\n",
              "      <th>18</th>\n",
              "      <td>-396.722999</td>\n",
              "      <td>204.229217</td>\n",
              "      <td>-24.497025</td>\n",
              "      <td>21.132384</td>\n",
              "      <td>181.695946</td>\n",
              "      <td>Normal</td>\n",
              "      <td>1</td>\n",
              "    </tr>\n",
              "    <tr>\n",
              "      <th>19</th>\n",
              "      <td>-0.903447</td>\n",
              "      <td>1.354520</td>\n",
              "      <td>0.125487</td>\n",
              "      <td>0.229511</td>\n",
              "      <td>0.554997</td>\n",
              "      <td>PVC</td>\n",
              "      <td>2</td>\n",
              "    </tr>\n",
              "    <tr>\n",
              "      <th>20</th>\n",
              "      <td>-1.165766</td>\n",
              "      <td>1.419093</td>\n",
              "      <td>0.087299</td>\n",
              "      <td>-0.050595</td>\n",
              "      <td>0.588282</td>\n",
              "      <td>PVC</td>\n",
              "      <td>2</td>\n",
              "    </tr>\n",
              "    <tr>\n",
              "      <th>21</th>\n",
              "      <td>-151.105662</td>\n",
              "      <td>374.313786</td>\n",
              "      <td>91.309773</td>\n",
              "      <td>27.517184</td>\n",
              "      <td>171.662328</td>\n",
              "      <td>AF</td>\n",
              "      <td>0</td>\n",
              "    </tr>\n",
              "    <tr>\n",
              "      <th>22</th>\n",
              "      <td>-332.052084</td>\n",
              "      <td>136.869971</td>\n",
              "      <td>-133.823499</td>\n",
              "      <td>-210.844411</td>\n",
              "      <td>157.970906</td>\n",
              "      <td>AF</td>\n",
              "      <td>0</td>\n",
              "    </tr>\n",
              "    <tr>\n",
              "      <th>23</th>\n",
              "      <td>-347.681597</td>\n",
              "      <td>115.154319</td>\n",
              "      <td>-69.286727</td>\n",
              "      <td>-12.919662</td>\n",
              "      <td>156.329278</td>\n",
              "      <td>Normal</td>\n",
              "      <td>1</td>\n",
              "    </tr>\n",
              "    <tr>\n",
              "      <th>24</th>\n",
              "      <td>-598.188527</td>\n",
              "      <td>199.831363</td>\n",
              "      <td>-232.872928</td>\n",
              "      <td>-228.954511</td>\n",
              "      <td>297.296898</td>\n",
              "      <td>Normal</td>\n",
              "      <td>1</td>\n",
              "    </tr>\n",
              "    <tr>\n",
              "      <th>25</th>\n",
              "      <td>-0.255456</td>\n",
              "      <td>0.657014</td>\n",
              "      <td>0.087115</td>\n",
              "      <td>0.082193</td>\n",
              "      <td>0.249060</td>\n",
              "      <td>PVC</td>\n",
              "      <td>2</td>\n",
              "    </tr>\n",
              "    <tr>\n",
              "      <th>26</th>\n",
              "      <td>-300.257855</td>\n",
              "      <td>206.769063</td>\n",
              "      <td>-55.798800</td>\n",
              "      <td>-42.632548</td>\n",
              "      <td>146.212951</td>\n",
              "      <td>AF</td>\n",
              "      <td>0</td>\n",
              "    </tr>\n",
              "    <tr>\n",
              "      <th>27</th>\n",
              "      <td>-387.676713</td>\n",
              "      <td>122.004553</td>\n",
              "      <td>-158.528113</td>\n",
              "      <td>-246.407862</td>\n",
              "      <td>185.012261</td>\n",
              "      <td>AF</td>\n",
              "      <td>0</td>\n",
              "    </tr>\n",
              "    <tr>\n",
              "      <th>28</th>\n",
              "      <td>-285.338465</td>\n",
              "      <td>186.448646</td>\n",
              "      <td>-114.514892</td>\n",
              "      <td>-160.409587</td>\n",
              "      <td>147.994790</td>\n",
              "      <td>AF</td>\n",
              "      <td>0</td>\n",
              "    </tr>\n",
              "  </tbody>\n",
              "</table>\n",
              "</div>\n",
              "      <button class=\"colab-df-convert\" onclick=\"convertToInteractive('df-83eda1ff-4767-476b-a1a9-0d148cf77608')\"\n",
              "              title=\"Convert this dataframe to an interactive table.\"\n",
              "              style=\"display:none;\">\n",
              "        \n",
              "  <svg xmlns=\"http://www.w3.org/2000/svg\" height=\"24px\"viewBox=\"0 0 24 24\"\n",
              "       width=\"24px\">\n",
              "    <path d=\"M0 0h24v24H0V0z\" fill=\"none\"/>\n",
              "    <path d=\"M18.56 5.44l.94 2.06.94-2.06 2.06-.94-2.06-.94-.94-2.06-.94 2.06-2.06.94zm-11 1L8.5 8.5l.94-2.06 2.06-.94-2.06-.94L8.5 2.5l-.94 2.06-2.06.94zm10 10l.94 2.06.94-2.06 2.06-.94-2.06-.94-.94-2.06-.94 2.06-2.06.94z\"/><path d=\"M17.41 7.96l-1.37-1.37c-.4-.4-.92-.59-1.43-.59-.52 0-1.04.2-1.43.59L10.3 9.45l-7.72 7.72c-.78.78-.78 2.05 0 2.83L4 21.41c.39.39.9.59 1.41.59.51 0 1.02-.2 1.41-.59l7.78-7.78 2.81-2.81c.8-.78.8-2.07 0-2.86zM5.41 20L4 18.59l7.72-7.72 1.47 1.35L5.41 20z\"/>\n",
              "  </svg>\n",
              "      </button>\n",
              "      \n",
              "  <style>\n",
              "    .colab-df-container {\n",
              "      display:flex;\n",
              "      flex-wrap:wrap;\n",
              "      gap: 12px;\n",
              "    }\n",
              "\n",
              "    .colab-df-convert {\n",
              "      background-color: #E8F0FE;\n",
              "      border: none;\n",
              "      border-radius: 50%;\n",
              "      cursor: pointer;\n",
              "      display: none;\n",
              "      fill: #1967D2;\n",
              "      height: 32px;\n",
              "      padding: 0 0 0 0;\n",
              "      width: 32px;\n",
              "    }\n",
              "\n",
              "    .colab-df-convert:hover {\n",
              "      background-color: #E2EBFA;\n",
              "      box-shadow: 0px 1px 2px rgba(60, 64, 67, 0.3), 0px 1px 3px 1px rgba(60, 64, 67, 0.15);\n",
              "      fill: #174EA6;\n",
              "    }\n",
              "\n",
              "    [theme=dark] .colab-df-convert {\n",
              "      background-color: #3B4455;\n",
              "      fill: #D2E3FC;\n",
              "    }\n",
              "\n",
              "    [theme=dark] .colab-df-convert:hover {\n",
              "      background-color: #434B5C;\n",
              "      box-shadow: 0px 1px 3px 1px rgba(0, 0, 0, 0.15);\n",
              "      filter: drop-shadow(0px 1px 2px rgba(0, 0, 0, 0.3));\n",
              "      fill: #FFFFFF;\n",
              "    }\n",
              "  </style>\n",
              "\n",
              "      <script>\n",
              "        const buttonEl =\n",
              "          document.querySelector('#df-83eda1ff-4767-476b-a1a9-0d148cf77608 button.colab-df-convert');\n",
              "        buttonEl.style.display =\n",
              "          google.colab.kernel.accessAllowed ? 'block' : 'none';\n",
              "\n",
              "        async function convertToInteractive(key) {\n",
              "          const element = document.querySelector('#df-83eda1ff-4767-476b-a1a9-0d148cf77608');\n",
              "          const dataTable =\n",
              "            await google.colab.kernel.invokeFunction('convertToInteractive',\n",
              "                                                     [key], {});\n",
              "          if (!dataTable) return;\n",
              "\n",
              "          const docLinkHtml = 'Like what you see? Visit the ' +\n",
              "            '<a target=\"_blank\" href=https://colab.research.google.com/notebooks/data_table.ipynb>data table notebook</a>'\n",
              "            + ' to learn more about interactive tables.';\n",
              "          element.innerHTML = '';\n",
              "          dataTable['output_type'] = 'display_data';\n",
              "          await google.colab.output.renderOutput(dataTable, element);\n",
              "          const docLink = document.createElement('div');\n",
              "          docLink.innerHTML = docLinkHtml;\n",
              "          element.appendChild(docLink);\n",
              "        }\n",
              "      </script>\n",
              "    </div>\n",
              "  </div>\n",
              "  "
            ],
            "text/plain": [
              "           min         max        mean         med         std   label  class\n",
              "0  -247.920551  115.138561  -11.632843   49.231595  130.080619      AF      0\n",
              "1  -189.251129  206.326931  -80.020658 -149.626793  141.859744  Normal      1\n",
              "2    -1.102709    1.221279    0.037925   -0.020088    0.604476     PVC      2\n",
              "3  -547.399020  251.216260 -218.044684 -231.251866  276.492531  Normal      1\n",
              "4  -301.046905  135.955328   -0.478558   59.439387  146.166389      AF      0\n",
              "5  -566.200859  256.851673  -37.007789   29.097550  251.652329  Normal      1\n",
              "6  -268.899891  140.211201  -94.683306 -111.475790  127.688119      AF      0\n",
              "7  -321.298400  147.541338   -3.420098  102.967335  194.887436  Normal      1\n",
              "8  -386.068221  220.164904  -89.859620  -58.675604  169.432200  Normal      1\n",
              "9  -346.461284  224.792217  -98.670221  -90.267803  158.070552  Normal      1\n",
              "10 -418.362210  187.817562   -0.377984   90.982813  217.991264  Normal      1\n",
              "11   -0.796843    2.072412    0.122461    0.000114    0.647585     PVC      2\n",
              "12 -302.565814  139.259470  -56.594418  -73.348335  120.208859  Normal      1\n",
              "13 -316.549348  167.643433  -39.009480    4.773795  145.060890      AF      0\n",
              "14 -269.867534  150.839875    7.518504   40.999312  136.010537      AF      0\n",
              "15 -243.838892  168.336799  -94.359022 -131.329284  128.428844      AF      0\n",
              "16   -1.043576    1.335088    0.053089   -0.053967    0.600670     PVC      2\n",
              "17   -1.197708    1.228660    0.042005   -0.033657    0.621005     PVC      2\n",
              "18 -396.722999  204.229217  -24.497025   21.132384  181.695946  Normal      1\n",
              "19   -0.903447    1.354520    0.125487    0.229511    0.554997     PVC      2\n",
              "20   -1.165766    1.419093    0.087299   -0.050595    0.588282     PVC      2\n",
              "21 -151.105662  374.313786   91.309773   27.517184  171.662328      AF      0\n",
              "22 -332.052084  136.869971 -133.823499 -210.844411  157.970906      AF      0\n",
              "23 -347.681597  115.154319  -69.286727  -12.919662  156.329278  Normal      1\n",
              "24 -598.188527  199.831363 -232.872928 -228.954511  297.296898  Normal      1\n",
              "25   -0.255456    0.657014    0.087115    0.082193    0.249060     PVC      2\n",
              "26 -300.257855  206.769063  -55.798800  -42.632548  146.212951      AF      0\n",
              "27 -387.676713  122.004553 -158.528113 -246.407862  185.012261      AF      0\n",
              "28 -285.338465  186.448646 -114.514892 -160.409587  147.994790      AF      0"
            ]
          },
          "execution_count": 30,
          "metadata": {},
          "output_type": "execute_result"
        }
      ],
      "source": [
        "result_dwt = pd.DataFrame(hasil_dwt)\n",
        "result_dwt = result_dwt.sample(frac=1)\n",
        "result_dwt = result_dwt.reset_index(drop=True)\n",
        "\n",
        "result_dwt['class'] = le.transform(result_dwt['label'].values)\n",
        "result_dwt"
      ]
    },
    {
      "cell_type": "code",
      "execution_count": null,
      "metadata": {
        "id": "Wo8GOpi-aG0U"
      },
      "outputs": [],
      "source": [
        "result_dwt.corr()['class']\n",
        "dfready = pd.concat([result_dwt]).reset_index(drop=True)\n",
        "dfready.to_csv('dataDWT.csv')\n"
      ]
    },
    {
      "cell_type": "markdown",
      "metadata": {
        "id": "hTGTNVySt3--"
      },
      "source": [
        "## RE Features"
      ]
    },
    {
      "cell_type": "code",
      "execution_count": null,
      "metadata": {
        "colab": {
          "base_uri": "https://localhost:8080/",
          "height": 929
        },
        "id": "i-8xYHr7nDo-",
        "outputId": "7c92d8ff-7798-4109-f019-605c6e453260"
      },
      "outputs": [
        {
          "data": {
            "text/html": [
              "\n",
              "  <div id=\"df-24c2e3bd-56e4-4026-8ff2-30826b431a51\">\n",
              "    <div class=\"colab-df-container\">\n",
              "      <div>\n",
              "<style scoped>\n",
              "    .dataframe tbody tr th:only-of-type {\n",
              "        vertical-align: middle;\n",
              "    }\n",
              "\n",
              "    .dataframe tbody tr th {\n",
              "        vertical-align: top;\n",
              "    }\n",
              "\n",
              "    .dataframe thead th {\n",
              "        text-align: right;\n",
              "    }\n",
              "</style>\n",
              "<table border=\"1\" class=\"dataframe\">\n",
              "  <thead>\n",
              "    <tr style=\"text-align: right;\">\n",
              "      <th></th>\n",
              "      <th>bpm</th>\n",
              "      <th>ibi</th>\n",
              "      <th>sdnn</th>\n",
              "      <th>rmssd</th>\n",
              "      <th>pnn20</th>\n",
              "      <th>pnn50</th>\n",
              "      <th>hr_mad</th>\n",
              "      <th>sd1</th>\n",
              "      <th>sd2</th>\n",
              "      <th>s</th>\n",
              "      <th>sd1/sd2</th>\n",
              "      <th>label</th>\n",
              "      <th>class</th>\n",
              "    </tr>\n",
              "  </thead>\n",
              "  <tbody>\n",
              "    <tr>\n",
              "      <th>0</th>\n",
              "      <td>86.021505</td>\n",
              "      <td>697.500000</td>\n",
              "      <td>138.500000</td>\n",
              "      <td>277.000000</td>\n",
              "      <td>1.0</td>\n",
              "      <td>1.00</td>\n",
              "      <td>138.5</td>\n",
              "      <td>0.000000</td>\n",
              "      <td>0.000000</td>\n",
              "      <td>0.000000</td>\n",
              "      <td>-1000.000000</td>\n",
              "      <td>Normal</td>\n",
              "      <td>1</td>\n",
              "    </tr>\n",
              "    <tr>\n",
              "      <th>1</th>\n",
              "      <td>85.592011</td>\n",
              "      <td>701.000000</td>\n",
              "      <td>142.000000</td>\n",
              "      <td>284.000000</td>\n",
              "      <td>1.0</td>\n",
              "      <td>1.00</td>\n",
              "      <td>142.0</td>\n",
              "      <td>0.000000</td>\n",
              "      <td>0.000000</td>\n",
              "      <td>0.000000</td>\n",
              "      <td>-1000.000000</td>\n",
              "      <td>Normal</td>\n",
              "      <td>1</td>\n",
              "    </tr>\n",
              "    <tr>\n",
              "      <th>2</th>\n",
              "      <td>59.262511</td>\n",
              "      <td>1012.444444</td>\n",
              "      <td>134.395032</td>\n",
              "      <td>242.180202</td>\n",
              "      <td>1.0</td>\n",
              "      <td>1.00</td>\n",
              "      <td>185.0</td>\n",
              "      <td>170.386601</td>\n",
              "      <td>40.261644</td>\n",
              "      <td>21551.466075</td>\n",
              "      <td>4.231983</td>\n",
              "      <td>PVC</td>\n",
              "      <td>2</td>\n",
              "    </tr>\n",
              "    <tr>\n",
              "      <th>3</th>\n",
              "      <td>81.190798</td>\n",
              "      <td>739.000000</td>\n",
              "      <td>0.000000</td>\n",
              "      <td>-1000.000000</td>\n",
              "      <td>-1000.0</td>\n",
              "      <td>-1000.00</td>\n",
              "      <td>0.0</td>\n",
              "      <td>-1000.000000</td>\n",
              "      <td>-1000.000000</td>\n",
              "      <td>-1000.000000</td>\n",
              "      <td>-1000.000000</td>\n",
              "      <td>AF</td>\n",
              "      <td>0</td>\n",
              "    </tr>\n",
              "    <tr>\n",
              "      <th>4</th>\n",
              "      <td>88.105727</td>\n",
              "      <td>681.000000</td>\n",
              "      <td>119.000000</td>\n",
              "      <td>238.000000</td>\n",
              "      <td>1.0</td>\n",
              "      <td>1.00</td>\n",
              "      <td>119.0</td>\n",
              "      <td>0.000000</td>\n",
              "      <td>0.000000</td>\n",
              "      <td>0.000000</td>\n",
              "      <td>-1000.000000</td>\n",
              "      <td>Normal</td>\n",
              "      <td>1</td>\n",
              "    </tr>\n",
              "    <tr>\n",
              "      <th>5</th>\n",
              "      <td>122.199593</td>\n",
              "      <td>491.000000</td>\n",
              "      <td>270.000000</td>\n",
              "      <td>540.000000</td>\n",
              "      <td>1.0</td>\n",
              "      <td>1.00</td>\n",
              "      <td>270.0</td>\n",
              "      <td>0.000000</td>\n",
              "      <td>0.000000</td>\n",
              "      <td>0.000000</td>\n",
              "      <td>-1000.000000</td>\n",
              "      <td>AF</td>\n",
              "      <td>0</td>\n",
              "    </tr>\n",
              "    <tr>\n",
              "      <th>6</th>\n",
              "      <td>125.786164</td>\n",
              "      <td>477.000000</td>\n",
              "      <td>188.000000</td>\n",
              "      <td>376.000000</td>\n",
              "      <td>1.0</td>\n",
              "      <td>1.00</td>\n",
              "      <td>188.0</td>\n",
              "      <td>0.000000</td>\n",
              "      <td>0.000000</td>\n",
              "      <td>0.000000</td>\n",
              "      <td>-1000.000000</td>\n",
              "      <td>AF</td>\n",
              "      <td>0</td>\n",
              "    </tr>\n",
              "    <tr>\n",
              "      <th>7</th>\n",
              "      <td>60.483871</td>\n",
              "      <td>992.000000</td>\n",
              "      <td>113.812712</td>\n",
              "      <td>218.061631</td>\n",
              "      <td>1.0</td>\n",
              "      <td>1.00</td>\n",
              "      <td>109.0</td>\n",
              "      <td>153.992060</td>\n",
              "      <td>19.335646</td>\n",
              "      <td>9354.204889</td>\n",
              "      <td>7.964154</td>\n",
              "      <td>PVC</td>\n",
              "      <td>2</td>\n",
              "    </tr>\n",
              "    <tr>\n",
              "      <th>8</th>\n",
              "      <td>84.210526</td>\n",
              "      <td>712.500000</td>\n",
              "      <td>135.500000</td>\n",
              "      <td>271.000000</td>\n",
              "      <td>1.0</td>\n",
              "      <td>1.00</td>\n",
              "      <td>135.5</td>\n",
              "      <td>0.000000</td>\n",
              "      <td>0.000000</td>\n",
              "      <td>0.000000</td>\n",
              "      <td>-1000.000000</td>\n",
              "      <td>Normal</td>\n",
              "      <td>1</td>\n",
              "    </tr>\n",
              "    <tr>\n",
              "      <th>9</th>\n",
              "      <td>124.740125</td>\n",
              "      <td>481.000000</td>\n",
              "      <td>290.000000</td>\n",
              "      <td>580.000000</td>\n",
              "      <td>1.0</td>\n",
              "      <td>1.00</td>\n",
              "      <td>290.0</td>\n",
              "      <td>0.000000</td>\n",
              "      <td>0.000000</td>\n",
              "      <td>0.000000</td>\n",
              "      <td>-1000.000000</td>\n",
              "      <td>AF</td>\n",
              "      <td>0</td>\n",
              "    </tr>\n",
              "    <tr>\n",
              "      <th>10</th>\n",
              "      <td>122.574055</td>\n",
              "      <td>489.500000</td>\n",
              "      <td>166.500000</td>\n",
              "      <td>333.000000</td>\n",
              "      <td>1.0</td>\n",
              "      <td>1.00</td>\n",
              "      <td>166.5</td>\n",
              "      <td>0.000000</td>\n",
              "      <td>0.000000</td>\n",
              "      <td>0.000000</td>\n",
              "      <td>-1000.000000</td>\n",
              "      <td>AF</td>\n",
              "      <td>0</td>\n",
              "    </tr>\n",
              "    <tr>\n",
              "      <th>11</th>\n",
              "      <td>62.066825</td>\n",
              "      <td>966.700000</td>\n",
              "      <td>128.949641</td>\n",
              "      <td>249.189798</td>\n",
              "      <td>1.0</td>\n",
              "      <td>1.00</td>\n",
              "      <td>120.5</td>\n",
              "      <td>174.490369</td>\n",
              "      <td>22.006172</td>\n",
              "      <td>12063.291891</td>\n",
              "      <td>7.929156</td>\n",
              "      <td>PVC</td>\n",
              "      <td>2</td>\n",
              "    </tr>\n",
              "    <tr>\n",
              "      <th>12</th>\n",
              "      <td>105.633803</td>\n",
              "      <td>568.000000</td>\n",
              "      <td>177.758263</td>\n",
              "      <td>349.271384</td>\n",
              "      <td>1.0</td>\n",
              "      <td>1.00</td>\n",
              "      <td>201.0</td>\n",
              "      <td>236.527218</td>\n",
              "      <td>71.064232</td>\n",
              "      <td>52805.852817</td>\n",
              "      <td>3.328358</td>\n",
              "      <td>Normal</td>\n",
              "      <td>1</td>\n",
              "    </tr>\n",
              "    <tr>\n",
              "      <th>13</th>\n",
              "      <td>681.818182</td>\n",
              "      <td>88.000000</td>\n",
              "      <td>56.000000</td>\n",
              "      <td>112.000000</td>\n",
              "      <td>1.0</td>\n",
              "      <td>1.00</td>\n",
              "      <td>56.0</td>\n",
              "      <td>0.000000</td>\n",
              "      <td>0.000000</td>\n",
              "      <td>0.000000</td>\n",
              "      <td>-1000.000000</td>\n",
              "      <td>AF</td>\n",
              "      <td>0</td>\n",
              "    </tr>\n",
              "    <tr>\n",
              "      <th>14</th>\n",
              "      <td>122.199593</td>\n",
              "      <td>491.000000</td>\n",
              "      <td>248.000000</td>\n",
              "      <td>496.000000</td>\n",
              "      <td>1.0</td>\n",
              "      <td>1.00</td>\n",
              "      <td>248.0</td>\n",
              "      <td>0.000000</td>\n",
              "      <td>0.000000</td>\n",
              "      <td>0.000000</td>\n",
              "      <td>-1000.000000</td>\n",
              "      <td>AF</td>\n",
              "      <td>0</td>\n",
              "    </tr>\n",
              "    <tr>\n",
              "      <th>15</th>\n",
              "      <td>65.466448</td>\n",
              "      <td>916.500000</td>\n",
              "      <td>103.263014</td>\n",
              "      <td>250.049995</td>\n",
              "      <td>1.0</td>\n",
              "      <td>1.00</td>\n",
              "      <td>26.5</td>\n",
              "      <td>176.776695</td>\n",
              "      <td>3.535534</td>\n",
              "      <td>1963.495408</td>\n",
              "      <td>50.000000</td>\n",
              "      <td>PVC</td>\n",
              "      <td>2</td>\n",
              "    </tr>\n",
              "    <tr>\n",
              "      <th>16</th>\n",
              "      <td>-1000.000000</td>\n",
              "      <td>-1000.000000</td>\n",
              "      <td>-1000.000000</td>\n",
              "      <td>-1000.000000</td>\n",
              "      <td>-1000.0</td>\n",
              "      <td>-1000.00</td>\n",
              "      <td>-1000.0</td>\n",
              "      <td>-1000.000000</td>\n",
              "      <td>-1000.000000</td>\n",
              "      <td>-1000.000000</td>\n",
              "      <td>-1000.000000</td>\n",
              "      <td>Normal</td>\n",
              "      <td>1</td>\n",
              "    </tr>\n",
              "    <tr>\n",
              "      <th>17</th>\n",
              "      <td>117.531832</td>\n",
              "      <td>510.500000</td>\n",
              "      <td>136.500000</td>\n",
              "      <td>273.000000</td>\n",
              "      <td>1.0</td>\n",
              "      <td>1.00</td>\n",
              "      <td>136.5</td>\n",
              "      <td>0.000000</td>\n",
              "      <td>0.000000</td>\n",
              "      <td>0.000000</td>\n",
              "      <td>-1000.000000</td>\n",
              "      <td>AF</td>\n",
              "      <td>0</td>\n",
              "    </tr>\n",
              "    <tr>\n",
              "      <th>18</th>\n",
              "      <td>58.622374</td>\n",
              "      <td>1023.500000</td>\n",
              "      <td>101.849153</td>\n",
              "      <td>202.158354</td>\n",
              "      <td>1.0</td>\n",
              "      <td>1.00</td>\n",
              "      <td>97.0</td>\n",
              "      <td>5.656854</td>\n",
              "      <td>17.677670</td>\n",
              "      <td>314.159265</td>\n",
              "      <td>0.320000</td>\n",
              "      <td>PVC</td>\n",
              "      <td>2</td>\n",
              "    </tr>\n",
              "    <tr>\n",
              "      <th>19</th>\n",
              "      <td>-1000.000000</td>\n",
              "      <td>-1000.000000</td>\n",
              "      <td>-1000.000000</td>\n",
              "      <td>-1000.000000</td>\n",
              "      <td>-1000.0</td>\n",
              "      <td>-1000.00</td>\n",
              "      <td>-1000.0</td>\n",
              "      <td>-1000.000000</td>\n",
              "      <td>-1000.000000</td>\n",
              "      <td>-1000.000000</td>\n",
              "      <td>-1000.000000</td>\n",
              "      <td>AF</td>\n",
              "      <td>0</td>\n",
              "    </tr>\n",
              "    <tr>\n",
              "      <th>20</th>\n",
              "      <td>58.399844</td>\n",
              "      <td>1027.400000</td>\n",
              "      <td>132.137201</td>\n",
              "      <td>251.984623</td>\n",
              "      <td>1.0</td>\n",
              "      <td>1.00</td>\n",
              "      <td>109.0</td>\n",
              "      <td>177.318481</td>\n",
              "      <td>34.732460</td>\n",
              "      <td>19348.148612</td>\n",
              "      <td>5.105267</td>\n",
              "      <td>PVC</td>\n",
              "      <td>2</td>\n",
              "    </tr>\n",
              "    <tr>\n",
              "      <th>21</th>\n",
              "      <td>86.330935</td>\n",
              "      <td>695.000000</td>\n",
              "      <td>137.000000</td>\n",
              "      <td>274.000000</td>\n",
              "      <td>1.0</td>\n",
              "      <td>1.00</td>\n",
              "      <td>137.0</td>\n",
              "      <td>0.000000</td>\n",
              "      <td>0.000000</td>\n",
              "      <td>0.000000</td>\n",
              "      <td>-1000.000000</td>\n",
              "      <td>Normal</td>\n",
              "      <td>1</td>\n",
              "    </tr>\n",
              "    <tr>\n",
              "      <th>22</th>\n",
              "      <td>61.506920</td>\n",
              "      <td>975.500000</td>\n",
              "      <td>100.302459</td>\n",
              "      <td>195.883894</td>\n",
              "      <td>1.0</td>\n",
              "      <td>0.75</td>\n",
              "      <td>57.5</td>\n",
              "      <td>136.217198</td>\n",
              "      <td>46.219585</td>\n",
              "      <td>19779.160416</td>\n",
              "      <td>2.947175</td>\n",
              "      <td>PVC</td>\n",
              "      <td>2</td>\n",
              "    </tr>\n",
              "    <tr>\n",
              "      <th>23</th>\n",
              "      <td>79.840319</td>\n",
              "      <td>751.500000</td>\n",
              "      <td>22.500000</td>\n",
              "      <td>45.000000</td>\n",
              "      <td>1.0</td>\n",
              "      <td>0.00</td>\n",
              "      <td>22.5</td>\n",
              "      <td>0.000000</td>\n",
              "      <td>0.000000</td>\n",
              "      <td>0.000000</td>\n",
              "      <td>-1000.000000</td>\n",
              "      <td>Normal</td>\n",
              "      <td>1</td>\n",
              "    </tr>\n",
              "    <tr>\n",
              "      <th>24</th>\n",
              "      <td>74.812968</td>\n",
              "      <td>802.000000</td>\n",
              "      <td>162.000000</td>\n",
              "      <td>324.000000</td>\n",
              "      <td>1.0</td>\n",
              "      <td>1.00</td>\n",
              "      <td>162.0</td>\n",
              "      <td>0.000000</td>\n",
              "      <td>0.000000</td>\n",
              "      <td>0.000000</td>\n",
              "      <td>-1000.000000</td>\n",
              "      <td>AF</td>\n",
              "      <td>0</td>\n",
              "    </tr>\n",
              "    <tr>\n",
              "      <th>25</th>\n",
              "      <td>101.294316</td>\n",
              "      <td>592.333333</td>\n",
              "      <td>189.248220</td>\n",
              "      <td>383.695843</td>\n",
              "      <td>1.0</td>\n",
              "      <td>1.00</td>\n",
              "      <td>167.0</td>\n",
              "      <td>264.811490</td>\n",
              "      <td>59.043416</td>\n",
              "      <td>49119.979236</td>\n",
              "      <td>4.485030</td>\n",
              "      <td>Normal</td>\n",
              "      <td>1</td>\n",
              "    </tr>\n",
              "  </tbody>\n",
              "</table>\n",
              "</div>\n",
              "      <button class=\"colab-df-convert\" onclick=\"convertToInteractive('df-24c2e3bd-56e4-4026-8ff2-30826b431a51')\"\n",
              "              title=\"Convert this dataframe to an interactive table.\"\n",
              "              style=\"display:none;\">\n",
              "        \n",
              "  <svg xmlns=\"http://www.w3.org/2000/svg\" height=\"24px\"viewBox=\"0 0 24 24\"\n",
              "       width=\"24px\">\n",
              "    <path d=\"M0 0h24v24H0V0z\" fill=\"none\"/>\n",
              "    <path d=\"M18.56 5.44l.94 2.06.94-2.06 2.06-.94-2.06-.94-.94-2.06-.94 2.06-2.06.94zm-11 1L8.5 8.5l.94-2.06 2.06-.94-2.06-.94L8.5 2.5l-.94 2.06-2.06.94zm10 10l.94 2.06.94-2.06 2.06-.94-2.06-.94-.94-2.06-.94 2.06-2.06.94z\"/><path d=\"M17.41 7.96l-1.37-1.37c-.4-.4-.92-.59-1.43-.59-.52 0-1.04.2-1.43.59L10.3 9.45l-7.72 7.72c-.78.78-.78 2.05 0 2.83L4 21.41c.39.39.9.59 1.41.59.51 0 1.02-.2 1.41-.59l7.78-7.78 2.81-2.81c.8-.78.8-2.07 0-2.86zM5.41 20L4 18.59l7.72-7.72 1.47 1.35L5.41 20z\"/>\n",
              "  </svg>\n",
              "      </button>\n",
              "      \n",
              "  <style>\n",
              "    .colab-df-container {\n",
              "      display:flex;\n",
              "      flex-wrap:wrap;\n",
              "      gap: 12px;\n",
              "    }\n",
              "\n",
              "    .colab-df-convert {\n",
              "      background-color: #E8F0FE;\n",
              "      border: none;\n",
              "      border-radius: 50%;\n",
              "      cursor: pointer;\n",
              "      display: none;\n",
              "      fill: #1967D2;\n",
              "      height: 32px;\n",
              "      padding: 0 0 0 0;\n",
              "      width: 32px;\n",
              "    }\n",
              "\n",
              "    .colab-df-convert:hover {\n",
              "      background-color: #E2EBFA;\n",
              "      box-shadow: 0px 1px 2px rgba(60, 64, 67, 0.3), 0px 1px 3px 1px rgba(60, 64, 67, 0.15);\n",
              "      fill: #174EA6;\n",
              "    }\n",
              "\n",
              "    [theme=dark] .colab-df-convert {\n",
              "      background-color: #3B4455;\n",
              "      fill: #D2E3FC;\n",
              "    }\n",
              "\n",
              "    [theme=dark] .colab-df-convert:hover {\n",
              "      background-color: #434B5C;\n",
              "      box-shadow: 0px 1px 3px 1px rgba(0, 0, 0, 0.15);\n",
              "      filter: drop-shadow(0px 1px 2px rgba(0, 0, 0, 0.3));\n",
              "      fill: #FFFFFF;\n",
              "    }\n",
              "  </style>\n",
              "\n",
              "      <script>\n",
              "        const buttonEl =\n",
              "          document.querySelector('#df-24c2e3bd-56e4-4026-8ff2-30826b431a51 button.colab-df-convert');\n",
              "        buttonEl.style.display =\n",
              "          google.colab.kernel.accessAllowed ? 'block' : 'none';\n",
              "\n",
              "        async function convertToInteractive(key) {\n",
              "          const element = document.querySelector('#df-24c2e3bd-56e4-4026-8ff2-30826b431a51');\n",
              "          const dataTable =\n",
              "            await google.colab.kernel.invokeFunction('convertToInteractive',\n",
              "                                                     [key], {});\n",
              "          if (!dataTable) return;\n",
              "\n",
              "          const docLinkHtml = 'Like what you see? Visit the ' +\n",
              "            '<a target=\"_blank\" href=https://colab.research.google.com/notebooks/data_table.ipynb>data table notebook</a>'\n",
              "            + ' to learn more about interactive tables.';\n",
              "          element.innerHTML = '';\n",
              "          dataTable['output_type'] = 'display_data';\n",
              "          await google.colab.output.renderOutput(dataTable, element);\n",
              "          const docLink = document.createElement('div');\n",
              "          docLink.innerHTML = docLinkHtml;\n",
              "          element.appendChild(docLink);\n",
              "        }\n",
              "      </script>\n",
              "    </div>\n",
              "  </div>\n",
              "  "
            ],
            "text/plain": [
              "            bpm          ibi         sdnn  ...      sd1/sd2   label  class\n",
              "0     86.021505   697.500000   138.500000  ... -1000.000000  Normal      1\n",
              "1     85.592011   701.000000   142.000000  ... -1000.000000  Normal      1\n",
              "2     59.262511  1012.444444   134.395032  ...     4.231983     PVC      2\n",
              "3     81.190798   739.000000     0.000000  ... -1000.000000      AF      0\n",
              "4     88.105727   681.000000   119.000000  ... -1000.000000  Normal      1\n",
              "5    122.199593   491.000000   270.000000  ... -1000.000000      AF      0\n",
              "6    125.786164   477.000000   188.000000  ... -1000.000000      AF      0\n",
              "7     60.483871   992.000000   113.812712  ...     7.964154     PVC      2\n",
              "8     84.210526   712.500000   135.500000  ... -1000.000000  Normal      1\n",
              "9    124.740125   481.000000   290.000000  ... -1000.000000      AF      0\n",
              "10   122.574055   489.500000   166.500000  ... -1000.000000      AF      0\n",
              "11    62.066825   966.700000   128.949641  ...     7.929156     PVC      2\n",
              "12   105.633803   568.000000   177.758263  ...     3.328358  Normal      1\n",
              "13   681.818182    88.000000    56.000000  ... -1000.000000      AF      0\n",
              "14   122.199593   491.000000   248.000000  ... -1000.000000      AF      0\n",
              "15    65.466448   916.500000   103.263014  ...    50.000000     PVC      2\n",
              "16 -1000.000000 -1000.000000 -1000.000000  ... -1000.000000  Normal      1\n",
              "17   117.531832   510.500000   136.500000  ... -1000.000000      AF      0\n",
              "18    58.622374  1023.500000   101.849153  ...     0.320000     PVC      2\n",
              "19 -1000.000000 -1000.000000 -1000.000000  ... -1000.000000      AF      0\n",
              "20    58.399844  1027.400000   132.137201  ...     5.105267     PVC      2\n",
              "21    86.330935   695.000000   137.000000  ... -1000.000000  Normal      1\n",
              "22    61.506920   975.500000   100.302459  ...     2.947175     PVC      2\n",
              "23    79.840319   751.500000    22.500000  ... -1000.000000  Normal      1\n",
              "24    74.812968   802.000000   162.000000  ... -1000.000000      AF      0\n",
              "25   101.294316   592.333333   189.248220  ...     4.485030  Normal      1\n",
              "\n",
              "[26 rows x 13 columns]"
            ]
          },
          "execution_count": 32,
          "metadata": {},
          "output_type": "execute_result"
        }
      ],
      "source": [
        "result_re = pd.DataFrame(hasil_re)\n",
        "result_re = result_re.sample(frac=1)\n",
        "result_re = result_re.reset_index(drop=True)\n",
        "result_re = result_re.fillna(-1000)\n",
        "result_re = result_re.drop(['sdsd', 'breathingrate'], axis=1)\n",
        "result_re['class'] = le.transform(result_re['label'].values)\n",
        "\n",
        "result_re"
      ]
    },
    {
      "cell_type": "code",
      "execution_count": null,
      "metadata": {
        "id": "iOgAI50BZ-Yv"
      },
      "outputs": [],
      "source": [
        "result_re.corr()['class']\n",
        "dfready = pd.concat([result_re]).reset_index(drop=True)\n",
        "dfready.to_csv('dataRE.csv')"
      ]
    },
    {
      "cell_type": "markdown",
      "metadata": {
        "id": "qHxwXvC1atNK"
      },
      "source": [
        "## RR Features"
      ]
    },
    {
      "cell_type": "code",
      "execution_count": null,
      "metadata": {
        "colab": {
          "base_uri": "https://localhost:8080/",
          "height": 959
        },
        "id": "Y_-mLWp8atNT",
        "outputId": "35ad9ecb-43e7-4ff2-b3ba-520c836364cd"
      },
      "outputs": [
        {
          "data": {
            "text/html": [
              "\n",
              "  <div id=\"df-f28dc512-e2fd-4979-aeda-b7c70d22f6e7\">\n",
              "    <div class=\"colab-df-container\">\n",
              "      <div>\n",
              "<style scoped>\n",
              "    .dataframe tbody tr th:only-of-type {\n",
              "        vertical-align: middle;\n",
              "    }\n",
              "\n",
              "    .dataframe tbody tr th {\n",
              "        vertical-align: top;\n",
              "    }\n",
              "\n",
              "    .dataframe thead th {\n",
              "        text-align: right;\n",
              "    }\n",
              "</style>\n",
              "<table border=\"1\" class=\"dataframe\">\n",
              "  <thead>\n",
              "    <tr style=\"text-align: right;\">\n",
              "      <th></th>\n",
              "      <th>min</th>\n",
              "      <th>max</th>\n",
              "      <th>mean</th>\n",
              "      <th>med</th>\n",
              "      <th>std</th>\n",
              "      <th>label</th>\n",
              "      <th>class</th>\n",
              "    </tr>\n",
              "  </thead>\n",
              "  <tbody>\n",
              "    <tr>\n",
              "      <th>0</th>\n",
              "      <td>0.666</td>\n",
              "      <td>0.969</td>\n",
              "      <td>0.817500</td>\n",
              "      <td>0.8175</td>\n",
              "      <td>0.214253</td>\n",
              "      <td>Normal</td>\n",
              "      <td>1</td>\n",
              "    </tr>\n",
              "    <tr>\n",
              "      <th>1</th>\n",
              "      <td>-100.000</td>\n",
              "      <td>-100.000</td>\n",
              "      <td>-100.000000</td>\n",
              "      <td>-100.0000</td>\n",
              "      <td>-100.000000</td>\n",
              "      <td>AF</td>\n",
              "      <td>0</td>\n",
              "    </tr>\n",
              "    <tr>\n",
              "      <th>2</th>\n",
              "      <td>0.240</td>\n",
              "      <td>0.784</td>\n",
              "      <td>0.648000</td>\n",
              "      <td>0.7720</td>\n",
              "      <td>0.222164</td>\n",
              "      <td>PVC</td>\n",
              "      <td>2</td>\n",
              "    </tr>\n",
              "    <tr>\n",
              "      <th>3</th>\n",
              "      <td>-100.000</td>\n",
              "      <td>-100.000</td>\n",
              "      <td>-100.000000</td>\n",
              "      <td>-100.0000</td>\n",
              "      <td>-100.000000</td>\n",
              "      <td>Normal</td>\n",
              "      <td>1</td>\n",
              "    </tr>\n",
              "    <tr>\n",
              "      <th>4</th>\n",
              "      <td>0.765</td>\n",
              "      <td>0.787</td>\n",
              "      <td>0.776000</td>\n",
              "      <td>0.7760</td>\n",
              "      <td>0.015556</td>\n",
              "      <td>Normal</td>\n",
              "      <td>1</td>\n",
              "    </tr>\n",
              "    <tr>\n",
              "      <th>5</th>\n",
              "      <td>0.360</td>\n",
              "      <td>0.792</td>\n",
              "      <td>0.622400</td>\n",
              "      <td>0.6960</td>\n",
              "      <td>0.193279</td>\n",
              "      <td>PVC</td>\n",
              "      <td>2</td>\n",
              "    </tr>\n",
              "    <tr>\n",
              "      <th>6</th>\n",
              "      <td>0.779</td>\n",
              "      <td>0.835</td>\n",
              "      <td>0.807000</td>\n",
              "      <td>0.8070</td>\n",
              "      <td>0.039598</td>\n",
              "      <td>Normal</td>\n",
              "      <td>1</td>\n",
              "    </tr>\n",
              "    <tr>\n",
              "      <th>7</th>\n",
              "      <td>0.448</td>\n",
              "      <td>0.824</td>\n",
              "      <td>0.622667</td>\n",
              "      <td>0.5760</td>\n",
              "      <td>0.155078</td>\n",
              "      <td>PVC</td>\n",
              "      <td>2</td>\n",
              "    </tr>\n",
              "    <tr>\n",
              "      <th>8</th>\n",
              "      <td>-100.000</td>\n",
              "      <td>-100.000</td>\n",
              "      <td>-100.000000</td>\n",
              "      <td>-100.0000</td>\n",
              "      <td>-100.000000</td>\n",
              "      <td>AF</td>\n",
              "      <td>0</td>\n",
              "    </tr>\n",
              "    <tr>\n",
              "      <th>9</th>\n",
              "      <td>-100.000</td>\n",
              "      <td>-100.000</td>\n",
              "      <td>-100.000000</td>\n",
              "      <td>-100.0000</td>\n",
              "      <td>-100.000000</td>\n",
              "      <td>AF</td>\n",
              "      <td>0</td>\n",
              "    </tr>\n",
              "    <tr>\n",
              "      <th>10</th>\n",
              "      <td>-100.000</td>\n",
              "      <td>-100.000</td>\n",
              "      <td>-100.000000</td>\n",
              "      <td>-100.0000</td>\n",
              "      <td>-100.000000</td>\n",
              "      <td>Normal</td>\n",
              "      <td>1</td>\n",
              "    </tr>\n",
              "    <tr>\n",
              "      <th>11</th>\n",
              "      <td>-100.000</td>\n",
              "      <td>-100.000</td>\n",
              "      <td>-100.000000</td>\n",
              "      <td>-100.0000</td>\n",
              "      <td>-100.000000</td>\n",
              "      <td>AF</td>\n",
              "      <td>0</td>\n",
              "    </tr>\n",
              "    <tr>\n",
              "      <th>12</th>\n",
              "      <td>0.560</td>\n",
              "      <td>10.328</td>\n",
              "      <td>2.630400</td>\n",
              "      <td>0.7920</td>\n",
              "      <td>4.304347</td>\n",
              "      <td>PVC</td>\n",
              "      <td>2</td>\n",
              "    </tr>\n",
              "    <tr>\n",
              "      <th>13</th>\n",
              "      <td>-100.000</td>\n",
              "      <td>-100.000</td>\n",
              "      <td>-100.000000</td>\n",
              "      <td>-100.0000</td>\n",
              "      <td>-100.000000</td>\n",
              "      <td>AF</td>\n",
              "      <td>0</td>\n",
              "    </tr>\n",
              "    <tr>\n",
              "      <th>14</th>\n",
              "      <td>-100.000</td>\n",
              "      <td>-100.000</td>\n",
              "      <td>-100.000000</td>\n",
              "      <td>-100.0000</td>\n",
              "      <td>-100.000000</td>\n",
              "      <td>Normal</td>\n",
              "      <td>1</td>\n",
              "    </tr>\n",
              "    <tr>\n",
              "      <th>15</th>\n",
              "      <td>-100.000</td>\n",
              "      <td>-100.000</td>\n",
              "      <td>-100.000000</td>\n",
              "      <td>-100.0000</td>\n",
              "      <td>-100.000000</td>\n",
              "      <td>Normal</td>\n",
              "      <td>1</td>\n",
              "    </tr>\n",
              "    <tr>\n",
              "      <th>16</th>\n",
              "      <td>-100.000</td>\n",
              "      <td>-100.000</td>\n",
              "      <td>-100.000000</td>\n",
              "      <td>-100.0000</td>\n",
              "      <td>-100.000000</td>\n",
              "      <td>AF</td>\n",
              "      <td>0</td>\n",
              "    </tr>\n",
              "    <tr>\n",
              "      <th>17</th>\n",
              "      <td>0.560</td>\n",
              "      <td>50.480</td>\n",
              "      <td>13.152000</td>\n",
              "      <td>0.7840</td>\n",
              "      <td>24.885561</td>\n",
              "      <td>PVC</td>\n",
              "      <td>2</td>\n",
              "    </tr>\n",
              "    <tr>\n",
              "      <th>18</th>\n",
              "      <td>0.884</td>\n",
              "      <td>0.898</td>\n",
              "      <td>0.891000</td>\n",
              "      <td>0.8910</td>\n",
              "      <td>0.009899</td>\n",
              "      <td>AF</td>\n",
              "      <td>0</td>\n",
              "    </tr>\n",
              "    <tr>\n",
              "      <th>19</th>\n",
              "      <td>-100.000</td>\n",
              "      <td>-100.000</td>\n",
              "      <td>-100.000000</td>\n",
              "      <td>-100.0000</td>\n",
              "      <td>-100.000000</td>\n",
              "      <td>Normal</td>\n",
              "      <td>1</td>\n",
              "    </tr>\n",
              "    <tr>\n",
              "      <th>20</th>\n",
              "      <td>-100.000</td>\n",
              "      <td>-100.000</td>\n",
              "      <td>-100.000000</td>\n",
              "      <td>-100.0000</td>\n",
              "      <td>-100.000000</td>\n",
              "      <td>AF</td>\n",
              "      <td>0</td>\n",
              "    </tr>\n",
              "    <tr>\n",
              "      <th>21</th>\n",
              "      <td>0.798</td>\n",
              "      <td>0.802</td>\n",
              "      <td>0.800000</td>\n",
              "      <td>0.8000</td>\n",
              "      <td>0.002828</td>\n",
              "      <td>Normal</td>\n",
              "      <td>1</td>\n",
              "    </tr>\n",
              "    <tr>\n",
              "      <th>22</th>\n",
              "      <td>-100.000</td>\n",
              "      <td>-100.000</td>\n",
              "      <td>-100.000000</td>\n",
              "      <td>-100.0000</td>\n",
              "      <td>-100.000000</td>\n",
              "      <td>AF</td>\n",
              "      <td>0</td>\n",
              "    </tr>\n",
              "    <tr>\n",
              "      <th>23</th>\n",
              "      <td>-100.000</td>\n",
              "      <td>-100.000</td>\n",
              "      <td>-100.000000</td>\n",
              "      <td>-100.0000</td>\n",
              "      <td>-100.000000</td>\n",
              "      <td>Normal</td>\n",
              "      <td>1</td>\n",
              "    </tr>\n",
              "    <tr>\n",
              "      <th>24</th>\n",
              "      <td>-100.000</td>\n",
              "      <td>-100.000</td>\n",
              "      <td>-100.000000</td>\n",
              "      <td>-100.0000</td>\n",
              "      <td>-100.000000</td>\n",
              "      <td>AF</td>\n",
              "      <td>0</td>\n",
              "    </tr>\n",
              "    <tr>\n",
              "      <th>25</th>\n",
              "      <td>0.768</td>\n",
              "      <td>0.784</td>\n",
              "      <td>0.776000</td>\n",
              "      <td>0.7760</td>\n",
              "      <td>0.006532</td>\n",
              "      <td>PVC</td>\n",
              "      <td>2</td>\n",
              "    </tr>\n",
              "    <tr>\n",
              "      <th>26</th>\n",
              "      <td>0.776</td>\n",
              "      <td>0.792</td>\n",
              "      <td>0.784000</td>\n",
              "      <td>0.7840</td>\n",
              "      <td>0.006532</td>\n",
              "      <td>PVC</td>\n",
              "      <td>2</td>\n",
              "    </tr>\n",
              "    <tr>\n",
              "      <th>27</th>\n",
              "      <td>0.717</td>\n",
              "      <td>0.800</td>\n",
              "      <td>0.758500</td>\n",
              "      <td>0.7585</td>\n",
              "      <td>0.058690</td>\n",
              "      <td>Normal</td>\n",
              "      <td>1</td>\n",
              "    </tr>\n",
              "    <tr>\n",
              "      <th>28</th>\n",
              "      <td>-100.000</td>\n",
              "      <td>-100.000</td>\n",
              "      <td>-100.000000</td>\n",
              "      <td>-100.0000</td>\n",
              "      <td>-100.000000</td>\n",
              "      <td>AF</td>\n",
              "      <td>0</td>\n",
              "    </tr>\n",
              "  </tbody>\n",
              "</table>\n",
              "</div>\n",
              "      <button class=\"colab-df-convert\" onclick=\"convertToInteractive('df-f28dc512-e2fd-4979-aeda-b7c70d22f6e7')\"\n",
              "              title=\"Convert this dataframe to an interactive table.\"\n",
              "              style=\"display:none;\">\n",
              "        \n",
              "  <svg xmlns=\"http://www.w3.org/2000/svg\" height=\"24px\"viewBox=\"0 0 24 24\"\n",
              "       width=\"24px\">\n",
              "    <path d=\"M0 0h24v24H0V0z\" fill=\"none\"/>\n",
              "    <path d=\"M18.56 5.44l.94 2.06.94-2.06 2.06-.94-2.06-.94-.94-2.06-.94 2.06-2.06.94zm-11 1L8.5 8.5l.94-2.06 2.06-.94-2.06-.94L8.5 2.5l-.94 2.06-2.06.94zm10 10l.94 2.06.94-2.06 2.06-.94-2.06-.94-.94-2.06-.94 2.06-2.06.94z\"/><path d=\"M17.41 7.96l-1.37-1.37c-.4-.4-.92-.59-1.43-.59-.52 0-1.04.2-1.43.59L10.3 9.45l-7.72 7.72c-.78.78-.78 2.05 0 2.83L4 21.41c.39.39.9.59 1.41.59.51 0 1.02-.2 1.41-.59l7.78-7.78 2.81-2.81c.8-.78.8-2.07 0-2.86zM5.41 20L4 18.59l7.72-7.72 1.47 1.35L5.41 20z\"/>\n",
              "  </svg>\n",
              "      </button>\n",
              "      \n",
              "  <style>\n",
              "    .colab-df-container {\n",
              "      display:flex;\n",
              "      flex-wrap:wrap;\n",
              "      gap: 12px;\n",
              "    }\n",
              "\n",
              "    .colab-df-convert {\n",
              "      background-color: #E8F0FE;\n",
              "      border: none;\n",
              "      border-radius: 50%;\n",
              "      cursor: pointer;\n",
              "      display: none;\n",
              "      fill: #1967D2;\n",
              "      height: 32px;\n",
              "      padding: 0 0 0 0;\n",
              "      width: 32px;\n",
              "    }\n",
              "\n",
              "    .colab-df-convert:hover {\n",
              "      background-color: #E2EBFA;\n",
              "      box-shadow: 0px 1px 2px rgba(60, 64, 67, 0.3), 0px 1px 3px 1px rgba(60, 64, 67, 0.15);\n",
              "      fill: #174EA6;\n",
              "    }\n",
              "\n",
              "    [theme=dark] .colab-df-convert {\n",
              "      background-color: #3B4455;\n",
              "      fill: #D2E3FC;\n",
              "    }\n",
              "\n",
              "    [theme=dark] .colab-df-convert:hover {\n",
              "      background-color: #434B5C;\n",
              "      box-shadow: 0px 1px 3px 1px rgba(0, 0, 0, 0.15);\n",
              "      filter: drop-shadow(0px 1px 2px rgba(0, 0, 0, 0.3));\n",
              "      fill: #FFFFFF;\n",
              "    }\n",
              "  </style>\n",
              "\n",
              "      <script>\n",
              "        const buttonEl =\n",
              "          document.querySelector('#df-f28dc512-e2fd-4979-aeda-b7c70d22f6e7 button.colab-df-convert');\n",
              "        buttonEl.style.display =\n",
              "          google.colab.kernel.accessAllowed ? 'block' : 'none';\n",
              "\n",
              "        async function convertToInteractive(key) {\n",
              "          const element = document.querySelector('#df-f28dc512-e2fd-4979-aeda-b7c70d22f6e7');\n",
              "          const dataTable =\n",
              "            await google.colab.kernel.invokeFunction('convertToInteractive',\n",
              "                                                     [key], {});\n",
              "          if (!dataTable) return;\n",
              "\n",
              "          const docLinkHtml = 'Like what you see? Visit the ' +\n",
              "            '<a target=\"_blank\" href=https://colab.research.google.com/notebooks/data_table.ipynb>data table notebook</a>'\n",
              "            + ' to learn more about interactive tables.';\n",
              "          element.innerHTML = '';\n",
              "          dataTable['output_type'] = 'display_data';\n",
              "          await google.colab.output.renderOutput(dataTable, element);\n",
              "          const docLink = document.createElement('div');\n",
              "          docLink.innerHTML = docLinkHtml;\n",
              "          element.appendChild(docLink);\n",
              "        }\n",
              "      </script>\n",
              "    </div>\n",
              "  </div>\n",
              "  "
            ],
            "text/plain": [
              "        min      max        mean       med         std   label  class\n",
              "0     0.666    0.969    0.817500    0.8175    0.214253  Normal      1\n",
              "1  -100.000 -100.000 -100.000000 -100.0000 -100.000000      AF      0\n",
              "2     0.240    0.784    0.648000    0.7720    0.222164     PVC      2\n",
              "3  -100.000 -100.000 -100.000000 -100.0000 -100.000000  Normal      1\n",
              "4     0.765    0.787    0.776000    0.7760    0.015556  Normal      1\n",
              "5     0.360    0.792    0.622400    0.6960    0.193279     PVC      2\n",
              "6     0.779    0.835    0.807000    0.8070    0.039598  Normal      1\n",
              "7     0.448    0.824    0.622667    0.5760    0.155078     PVC      2\n",
              "8  -100.000 -100.000 -100.000000 -100.0000 -100.000000      AF      0\n",
              "9  -100.000 -100.000 -100.000000 -100.0000 -100.000000      AF      0\n",
              "10 -100.000 -100.000 -100.000000 -100.0000 -100.000000  Normal      1\n",
              "11 -100.000 -100.000 -100.000000 -100.0000 -100.000000      AF      0\n",
              "12    0.560   10.328    2.630400    0.7920    4.304347     PVC      2\n",
              "13 -100.000 -100.000 -100.000000 -100.0000 -100.000000      AF      0\n",
              "14 -100.000 -100.000 -100.000000 -100.0000 -100.000000  Normal      1\n",
              "15 -100.000 -100.000 -100.000000 -100.0000 -100.000000  Normal      1\n",
              "16 -100.000 -100.000 -100.000000 -100.0000 -100.000000      AF      0\n",
              "17    0.560   50.480   13.152000    0.7840   24.885561     PVC      2\n",
              "18    0.884    0.898    0.891000    0.8910    0.009899      AF      0\n",
              "19 -100.000 -100.000 -100.000000 -100.0000 -100.000000  Normal      1\n",
              "20 -100.000 -100.000 -100.000000 -100.0000 -100.000000      AF      0\n",
              "21    0.798    0.802    0.800000    0.8000    0.002828  Normal      1\n",
              "22 -100.000 -100.000 -100.000000 -100.0000 -100.000000      AF      0\n",
              "23 -100.000 -100.000 -100.000000 -100.0000 -100.000000  Normal      1\n",
              "24 -100.000 -100.000 -100.000000 -100.0000 -100.000000      AF      0\n",
              "25    0.768    0.784    0.776000    0.7760    0.006532     PVC      2\n",
              "26    0.776    0.792    0.784000    0.7840    0.006532     PVC      2\n",
              "27    0.717    0.800    0.758500    0.7585    0.058690  Normal      1\n",
              "28 -100.000 -100.000 -100.000000 -100.0000 -100.000000      AF      0"
            ]
          },
          "execution_count": 34,
          "metadata": {},
          "output_type": "execute_result"
        }
      ],
      "source": [
        "result_rr = pd.DataFrame(hasil_rr)\n",
        "result_rr = result_rr.sample(frac=1)\n",
        "result_rr = result_rr.reset_index(drop=True)\n",
        "\n",
        "result_rr['class'] = le.transform(result_rr['label'].values)\n",
        "result_rr"
      ]
    },
    {
      "cell_type": "code",
      "execution_count": null,
      "metadata": {
        "id": "8tkPwXrbatNU"
      },
      "outputs": [],
      "source": [
        "result_rr.corr()['class']\n",
        "dfready = pd.concat([result_rr]).reset_index(drop=True)\n",
        "dfready.to_csv('dataRR.csv')"
      ]
    },
    {
      "cell_type": "code",
      "execution_count": null,
      "metadata": {
        "id": "VDKVlK4kuduX"
      },
      "outputs": [],
      "source": [
        "n_neighbors = 3"
      ]
    },
    {
      "cell_type": "markdown",
      "metadata": {
        "id": "-i74Kl7hBhA4"
      },
      "source": [
        "# **Combine**"
      ]
    },
    {
      "cell_type": "code",
      "execution_count": null,
      "metadata": {
        "id": "MlCsAwL0CSYI"
      },
      "outputs": [],
      "source": [
        "#Kombinasi 1 RR + DWT\n",
        "\n",
        "dfready = pd.concat([result_rr,result_dwt]).reset_index(drop=True)\n",
        "dfready.to_csv('dataRR+DWT.csv')"
      ]
    },
    {
      "cell_type": "code",
      "execution_count": null,
      "metadata": {
        "id": "q8M9jtxCDjPf"
      },
      "outputs": [],
      "source": [
        "#Kombinasi 2 RR + RE\n",
        "dfready = pd.concat([result_rr,result_re]).reset_index(drop=True)\n",
        "dfready.to_csv('dataRR+RE.csv')"
      ]
    },
    {
      "cell_type": "code",
      "execution_count": null,
      "metadata": {
        "id": "0VtUd4paD1WW"
      },
      "outputs": [],
      "source": [
        "#Kombinasi 3 DWT + RE\n",
        "dfready = pd.concat([result_re,result_dwt]).reset_index(drop=True)\n",
        "dfready.to_csv('dataRE+DWT.csv')"
      ]
    },
    {
      "cell_type": "code",
      "execution_count": null,
      "metadata": {
        "id": "D3ojsm5EBlCc"
      },
      "outputs": [],
      "source": [
        "#Kombinasi RR + DWT + RE\n",
        "dfready = pd.concat([result_rr,result_dwt,result_re]).reset_index(drop=True)\n",
        "dfready.to_csv('dataKombinasi.csv')"
      ]
    },
    {
      "cell_type": "markdown",
      "metadata": {
        "id": "0Zd3VtDULBHA"
      },
      "source": [
        "# **Classification**"
      ]
    },
    {
      "cell_type": "markdown",
      "metadata": {
        "id": "5V9siWm2uDzu"
      },
      "source": [
        "## DWT Classification"
      ]
    },
    {
      "cell_type": "code",
      "execution_count": null,
      "metadata": {
        "id": "qx1ZYpyTHI6a"
      },
      "outputs": [],
      "source": [
        "X = result_dwt.drop(['label', 'class'], axis=1)\n",
        "y = result_dwt['class']"
      ]
    },
    {
      "cell_type": "code",
      "execution_count": null,
      "metadata": {
        "colab": {
          "base_uri": "https://localhost:8080/"
        },
        "id": "pa1sirAuMMgF",
        "outputId": "15a1fb14-ab5e-4611-93bd-2655a028590c"
      },
      "outputs": [
        {
          "data": {
            "text/plain": [
              "((20, 5), (9, 5))"
            ]
          },
          "execution_count": 42,
          "metadata": {},
          "output_type": "execute_result"
        }
      ],
      "source": [
        "X_train, X_test, y_train, y_test = train_test_split(X, y, test_size=0.3)\n",
        "X_train.shape, X_test.shape"
      ]
    },
    {
      "cell_type": "code",
      "execution_count": null,
      "metadata": {
        "colab": {
          "base_uri": "https://localhost:8080/"
        },
        "id": "V0fuZu8oMNzF",
        "outputId": "0684b565-a44f-4aad-b925-207bcd3528b0"
      },
      "outputs": [
        {
          "name": "stdout",
          "output_type": "stream",
          "text": [
            "              precision    recall  f1-score   support\n",
            "\n",
            "           0       0.60      1.00      0.75         3\n",
            "           1       1.00      0.50      0.67         4\n",
            "           2       1.00      1.00      1.00         2\n",
            "\n",
            "    accuracy                           0.78         9\n",
            "   macro avg       0.87      0.83      0.81         9\n",
            "weighted avg       0.87      0.78      0.77         9\n",
            "\n"
          ]
        }
      ],
      "source": [
        "knn_dwt = KNeighborsClassifier(n_neighbors=n_neighbors)\n",
        "knn_dwt.fit(X_train, y_train)\n",
        "y_pred = knn_dwt.predict(X_test)\n",
        "print(classification_report(y_test, y_pred))"
      ]
    },
    {
      "cell_type": "code",
      "execution_count": null,
      "metadata": {
        "colab": {
          "base_uri": "https://localhost:8080/"
        },
        "id": "0xEd-nuxNPsu",
        "outputId": "eb9651bf-e2a9-4567-a1ad-ea9aca8019e0"
      },
      "outputs": [
        {
          "data": {
            "text/plain": [
              "array([0.4, 0. ])"
            ]
          },
          "execution_count": 44,
          "metadata": {},
          "output_type": "execute_result"
        }
      ],
      "source": [
        "cross_val_score(knn_dwt, X_test, y_test, cv=2)"
      ]
    },
    {
      "cell_type": "markdown",
      "metadata": {
        "id": "PpcYasJhuMLH"
      },
      "source": [
        "## RE Classification"
      ]
    },
    {
      "cell_type": "code",
      "execution_count": null,
      "metadata": {
        "id": "sQWlq6OquMLI"
      },
      "outputs": [],
      "source": [
        "X = result_re.drop(['pnn20', 'pnn50', 'sd1', 'sd2', 'label', 'class'], axis=1)\n",
        "y = result_re['class']"
      ]
    },
    {
      "cell_type": "code",
      "execution_count": null,
      "metadata": {
        "colab": {
          "base_uri": "https://localhost:8080/"
        },
        "id": "kpV7gwSkuMLJ",
        "outputId": "bd87ebef-58b8-4b8b-9542-a671b964583a"
      },
      "outputs": [
        {
          "data": {
            "text/plain": [
              "((18, 7), (8, 7))"
            ]
          },
          "execution_count": 46,
          "metadata": {},
          "output_type": "execute_result"
        }
      ],
      "source": [
        "X_train, X_test, y_train, y_test = train_test_split(X, y, test_size=0.3)\n",
        "X_train.shape, X_test.shape"
      ]
    },
    {
      "cell_type": "code",
      "execution_count": null,
      "metadata": {
        "colab": {
          "base_uri": "https://localhost:8080/"
        },
        "id": "vrmHASwyuMLK",
        "outputId": "bdef61a3-c79d-4915-a68a-66d712bcb863"
      },
      "outputs": [
        {
          "name": "stdout",
          "output_type": "stream",
          "text": [
            "              precision    recall  f1-score   support\n",
            "\n",
            "           0       1.00      0.67      0.80         3\n",
            "           1       0.67      0.67      0.67         3\n",
            "           2       0.67      1.00      0.80         2\n",
            "\n",
            "    accuracy                           0.75         8\n",
            "   macro avg       0.78      0.78      0.76         8\n",
            "weighted avg       0.79      0.75      0.75         8\n",
            "\n"
          ]
        }
      ],
      "source": [
        "knn_re = KNeighborsClassifier(n_neighbors=n_neighbors)\n",
        "knn_re.fit(X_train, y_train)\n",
        "y_pred = knn_re.predict(X_test)\n",
        "print(classification_report(y_test, y_pred))"
      ]
    },
    {
      "cell_type": "code",
      "execution_count": null,
      "metadata": {
        "colab": {
          "base_uri": "https://localhost:8080/"
        },
        "id": "4pA_Bu_WuMLL",
        "outputId": "1d4acac7-019f-4d06-8d51-da72c6d77d3e"
      },
      "outputs": [
        {
          "data": {
            "text/plain": [
              "array([0.25, 0.25])"
            ]
          },
          "execution_count": 48,
          "metadata": {},
          "output_type": "execute_result"
        }
      ],
      "source": [
        "cross_val_score(knn_re, X_test, y_test, cv=2)"
      ]
    },
    {
      "cell_type": "markdown",
      "metadata": {
        "id": "XI5lB1Hra7jH"
      },
      "source": [
        "## RR Classification"
      ]
    },
    {
      "cell_type": "code",
      "execution_count": null,
      "metadata": {
        "id": "cdiAK1OFa7jJ"
      },
      "outputs": [],
      "source": [
        "X = result_rr.drop(['label', 'class'], axis=1)\n",
        "y = result_rr['class']"
      ]
    },
    {
      "cell_type": "code",
      "execution_count": null,
      "metadata": {
        "colab": {
          "base_uri": "https://localhost:8080/"
        },
        "id": "iDGaoQR1a7jK",
        "outputId": "8e868cee-3c7e-47b5-d1ca-1e4eea61a774"
      },
      "outputs": [
        {
          "data": {
            "text/plain": [
              "((20, 5), (9, 5))"
            ]
          },
          "execution_count": 50,
          "metadata": {},
          "output_type": "execute_result"
        }
      ],
      "source": [
        "X_train, X_test, y_train, y_test = train_test_split(X, y, test_size=0.3)\n",
        "X_train.shape, X_test.shape"
      ]
    },
    {
      "cell_type": "code",
      "execution_count": null,
      "metadata": {
        "colab": {
          "base_uri": "https://localhost:8080/"
        },
        "id": "fmfNCAP5a7jK",
        "outputId": "81760172-848a-4f9b-d2f5-4d055f628053"
      },
      "outputs": [
        {
          "name": "stdout",
          "output_type": "stream",
          "text": [
            "              precision    recall  f1-score   support\n",
            "\n",
            "           0       0.67      1.00      0.80         2\n",
            "           1       0.00      0.00      0.00         1\n",
            "           2       0.00      0.00      0.00         6\n",
            "\n",
            "    accuracy                           0.22         9\n",
            "   macro avg       0.22      0.33      0.27         9\n",
            "weighted avg       0.15      0.22      0.18         9\n",
            "\n"
          ]
        }
      ],
      "source": [
        "knn_rr = KNeighborsClassifier(n_neighbors=n_neighbors)\n",
        "knn_rr.fit(X_train, y_train)\n",
        "y_pred = knn_rr.predict(X_test)\n",
        "print(classification_report(y_test, y_pred))"
      ]
    },
    {
      "cell_type": "code",
      "execution_count": null,
      "metadata": {
        "colab": {
          "base_uri": "https://localhost:8080/"
        },
        "id": "XXsXT4vWa7jL",
        "outputId": "746e6746-a137-4ef2-ca54-5e8945790234"
      },
      "outputs": [
        {
          "data": {
            "text/plain": [
              "array([0.6, 1. ])"
            ]
          },
          "execution_count": 52,
          "metadata": {},
          "output_type": "execute_result"
        }
      ],
      "source": [
        "cross_val_score(knn_rr, X_test, y_test, cv=2)"
      ]
    },
    {
      "cell_type": "markdown",
      "metadata": {
        "id": "aMmeVSl-E-GO"
      },
      "source": [
        "##COMBINATION CLASSIFICATION"
      ]
    },
    {
      "cell_type": "code",
      "execution_count": null,
      "metadata": {
        "id": "Czco8aAXFEmz"
      },
      "outputs": [],
      "source": [
        "#Kombinasi 1 \n",
        "result_rrdwt= pd.concat([result_rr,result_dwt]).reset_index(drop=True)\n",
        "X = result_rrdwt.drop(['label', 'class'], axis=1)\n",
        "y = result_rrdwt['class']"
      ]
    },
    {
      "cell_type": "code",
      "execution_count": null,
      "metadata": {
        "colab": {
          "base_uri": "https://localhost:8080/"
        },
        "id": "YT4_m32bFYh5",
        "outputId": "6830c44e-6d7c-4b9e-86a9-acca719f5b54"
      },
      "outputs": [
        {
          "data": {
            "text/plain": [
              "((40, 5), (18, 5))"
            ]
          },
          "execution_count": 69,
          "metadata": {},
          "output_type": "execute_result"
        }
      ],
      "source": [
        "X_train, X_test, y_train, y_test = train_test_split(X, y, test_size=0.3)\n",
        "X_train.shape, X_test.shape"
      ]
    },
    {
      "cell_type": "code",
      "execution_count": null,
      "metadata": {
        "colab": {
          "base_uri": "https://localhost:8080/"
        },
        "id": "1ZLzOAV9FaQD",
        "outputId": "f5593a1a-158b-492c-d86e-ffa5ea22cfe0"
      },
      "outputs": [
        {
          "name": "stdout",
          "output_type": "stream",
          "text": [
            "              precision    recall  f1-score   support\n",
            "\n",
            "           0       1.00      0.43      0.60         7\n",
            "           1       0.40      1.00      0.57         4\n",
            "           2       1.00      0.71      0.83         7\n",
            "\n",
            "    accuracy                           0.67        18\n",
            "   macro avg       0.80      0.71      0.67        18\n",
            "weighted avg       0.87      0.67      0.68        18\n",
            "\n"
          ]
        }
      ],
      "source": [
        "knn_rrdwt = KNeighborsClassifier(n_neighbors=n_neighbors)\n",
        "knn_rrdwt.fit(X_train, y_train)\n",
        "y_pred = knn_rrdwt.predict(X_test)\n",
        "print(classification_report(y_test, y_pred))"
      ]
    },
    {
      "cell_type": "code",
      "execution_count": null,
      "metadata": {
        "colab": {
          "base_uri": "https://localhost:8080/"
        },
        "id": "VuEbwkM5FcNN",
        "outputId": "226ced29-86f1-43cb-e38d-d4233b02b220"
      },
      "outputs": [
        {
          "data": {
            "text/plain": [
              "array([0.44444444, 0.66666667])"
            ]
          },
          "execution_count": 56,
          "metadata": {},
          "output_type": "execute_result"
        }
      ],
      "source": [
        "cross_val_score(knn_rrdwt, X_test, y_test, cv=2)"
      ]
    },
    {
      "cell_type": "code",
      "execution_count": null,
      "metadata": {
        "id": "8-z4LkmjJ2K0"
      },
      "outputs": [],
      "source": [
        "#Kombinasi 2\n",
        "result_rrre= pd.concat([result_rr,result_re]).reset_index(drop=True)\n",
        "result_rrre\n",
        "X = result_rrre.drop(['label','pnn20', 'pnn50', 'sd1', 'sd2', 'class'], axis=1)\n",
        "y = result_rrre['class']"
      ]
    },
    {
      "cell_type": "code",
      "execution_count": null,
      "metadata": {
        "colab": {
          "base_uri": "https://localhost:8080/"
        },
        "id": "RWLUH7j4KBmy",
        "outputId": "bbf3f8cf-7fd5-4c6b-81d1-bc718305d1aa"
      },
      "outputs": [
        {
          "data": {
            "text/plain": [
              "((38, 12), (17, 12))"
            ]
          },
          "execution_count": 58,
          "metadata": {},
          "output_type": "execute_result"
        }
      ],
      "source": [
        "X_train, X_test, y_train, y_test = train_test_split(X, y, test_size=0.3)\n",
        "X_train.shape, X_test.shape"
      ]
    },
    {
      "cell_type": "code",
      "execution_count": null,
      "metadata": {
        "colab": {
          "background_save": true,
          "base_uri": "https://localhost:8080/",
          "height": 364
        },
        "id": "Do7e3Xo0KDXs",
        "outputId": "ac4ff4f8-c34f-481f-f097-1455a1adaef5"
      },
      "outputs": [
        {
          "name": "stdout",
          "output_type": "stream",
          "text": [
            "              precision    recall  f1-score   support\n",
            "\n",
            "           0       1.00      0.43      0.60         7\n",
            "           1       0.40      1.00      0.57         4\n",
            "           2       1.00      0.71      0.83         7\n",
            "\n",
            "    accuracy                           0.67        18\n",
            "   macro avg       0.80      0.71      0.67        18\n",
            "weighted avg       0.87      0.67      0.68        18\n",
            "\n"
          ]
        }
      ],
      "source": [
        "knn_rrre = KNeighborsClassifier(n_neighbors=n_neighbors)\n",
        "knn_rrre.fit(X_train, y_train)\n",
        "y_pred = knn_rrre.predict(X_test)\n",
        "print(classification_report(y_test, y_pred))"
      ]
    }
  ],
  "metadata": {
    "colab": {
      "collapsed_sections": [],
      "name": "PPG Classification.ipynb",
      "provenance": []
    },
    "kernelspec": {
      "display_name": "Python 3",
      "name": "python3"
    },
    "language_info": {
      "name": "python"
    }
  },
  "nbformat": 4,
  "nbformat_minor": 0
}